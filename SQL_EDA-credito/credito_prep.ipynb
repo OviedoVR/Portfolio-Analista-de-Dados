{
  "nbformat": 4,
  "nbformat_minor": 0,
  "metadata": {
    "colab": {
      "provenance": []
    },
    "kernelspec": {
      "name": "python3",
      "display_name": "Python 3"
    },
    "language_info": {
      "name": "python"
    }
  },
  "cells": [
    {
      "cell_type": "markdown",
      "source": [
        "### **Bibliotecas:**"
      ],
      "metadata": {
        "id": "y0G5qZU47brQ"
      }
    },
    {
      "cell_type": "code",
      "source": [
        "import numpy as np\n",
        "import pandas as pd"
      ],
      "metadata": {
        "id": "xQf3x0rb6Hph"
      },
      "execution_count": 3,
      "outputs": []
    },
    {
      "cell_type": "markdown",
      "source": [
        "### **Coleta dos dados:**\n",
        "\n"
      ],
      "metadata": {
        "id": "cxaDNhTd7Nic"
      }
    },
    {
      "cell_type": "code",
      "source": [
        "!wget -q \"https://raw.githubusercontent.com/andre-marcos-perez/ebac-course-utils/main/dataset/credito.csv\" -O credito_raw.csv"
      ],
      "metadata": {
        "id": "byg2nP14PpI0"
      },
      "execution_count": 4,
      "outputs": []
    },
    {
      "cell_type": "code",
      "source": [
        "credito = pd.read_csv('credito_raw.csv')\n",
        "credito.head(3)"
      ],
      "metadata": {
        "colab": {
          "base_uri": "https://localhost:8080/",
          "height": 225
        },
        "id": "OlH2hBvm6KpT",
        "outputId": "f5e8cb46-b26a-42f1-e97b-64c339a592ea"
      },
      "execution_count": 5,
      "outputs": [
        {
          "output_type": "execute_result",
          "data": {
            "text/plain": [
              "          id  default  idade sexo  dependentes  escolaridade estado_civil  \\\n",
              "0  768805383        0     45    M            3  ensino medio       casado   \n",
              "1  818770008        0     49    F            5      mestrado     solteiro   \n",
              "2  713982108        0     51    M            3      mestrado       casado   \n",
              "\n",
              "    salario_anual tipo_cartao  meses_de_relacionamento  qtd_produtos  \\\n",
              "0     $60K - $80K        blue                       39             5   \n",
              "1  menos que $40K        blue                       44             6   \n",
              "2    $80K - $120K        blue                       36             4   \n",
              "\n",
              "   iteracoes_12m  meses_inativo_12m limite_credito valor_transacoes_12m  \\\n",
              "0              3                  1      12.691,51             1.144,90   \n",
              "1              2                  1       8.256,96             1.291,45   \n",
              "2              0                  1       3.418,56             1.887,72   \n",
              "\n",
              "   qtd_transacoes_12m  \n",
              "0                  42  \n",
              "1                  33  \n",
              "2                  20  "
            ],
            "text/html": [
              "\n",
              "  <div id=\"df-679c488e-3d28-43d3-b26b-c3ed642a5b50\">\n",
              "    <div class=\"colab-df-container\">\n",
              "      <div>\n",
              "<style scoped>\n",
              "    .dataframe tbody tr th:only-of-type {\n",
              "        vertical-align: middle;\n",
              "    }\n",
              "\n",
              "    .dataframe tbody tr th {\n",
              "        vertical-align: top;\n",
              "    }\n",
              "\n",
              "    .dataframe thead th {\n",
              "        text-align: right;\n",
              "    }\n",
              "</style>\n",
              "<table border=\"1\" class=\"dataframe\">\n",
              "  <thead>\n",
              "    <tr style=\"text-align: right;\">\n",
              "      <th></th>\n",
              "      <th>id</th>\n",
              "      <th>default</th>\n",
              "      <th>idade</th>\n",
              "      <th>sexo</th>\n",
              "      <th>dependentes</th>\n",
              "      <th>escolaridade</th>\n",
              "      <th>estado_civil</th>\n",
              "      <th>salario_anual</th>\n",
              "      <th>tipo_cartao</th>\n",
              "      <th>meses_de_relacionamento</th>\n",
              "      <th>qtd_produtos</th>\n",
              "      <th>iteracoes_12m</th>\n",
              "      <th>meses_inativo_12m</th>\n",
              "      <th>limite_credito</th>\n",
              "      <th>valor_transacoes_12m</th>\n",
              "      <th>qtd_transacoes_12m</th>\n",
              "    </tr>\n",
              "  </thead>\n",
              "  <tbody>\n",
              "    <tr>\n",
              "      <th>0</th>\n",
              "      <td>768805383</td>\n",
              "      <td>0</td>\n",
              "      <td>45</td>\n",
              "      <td>M</td>\n",
              "      <td>3</td>\n",
              "      <td>ensino medio</td>\n",
              "      <td>casado</td>\n",
              "      <td>$60K - $80K</td>\n",
              "      <td>blue</td>\n",
              "      <td>39</td>\n",
              "      <td>5</td>\n",
              "      <td>3</td>\n",
              "      <td>1</td>\n",
              "      <td>12.691,51</td>\n",
              "      <td>1.144,90</td>\n",
              "      <td>42</td>\n",
              "    </tr>\n",
              "    <tr>\n",
              "      <th>1</th>\n",
              "      <td>818770008</td>\n",
              "      <td>0</td>\n",
              "      <td>49</td>\n",
              "      <td>F</td>\n",
              "      <td>5</td>\n",
              "      <td>mestrado</td>\n",
              "      <td>solteiro</td>\n",
              "      <td>menos que $40K</td>\n",
              "      <td>blue</td>\n",
              "      <td>44</td>\n",
              "      <td>6</td>\n",
              "      <td>2</td>\n",
              "      <td>1</td>\n",
              "      <td>8.256,96</td>\n",
              "      <td>1.291,45</td>\n",
              "      <td>33</td>\n",
              "    </tr>\n",
              "    <tr>\n",
              "      <th>2</th>\n",
              "      <td>713982108</td>\n",
              "      <td>0</td>\n",
              "      <td>51</td>\n",
              "      <td>M</td>\n",
              "      <td>3</td>\n",
              "      <td>mestrado</td>\n",
              "      <td>casado</td>\n",
              "      <td>$80K - $120K</td>\n",
              "      <td>blue</td>\n",
              "      <td>36</td>\n",
              "      <td>4</td>\n",
              "      <td>0</td>\n",
              "      <td>1</td>\n",
              "      <td>3.418,56</td>\n",
              "      <td>1.887,72</td>\n",
              "      <td>20</td>\n",
              "    </tr>\n",
              "  </tbody>\n",
              "</table>\n",
              "</div>\n",
              "      <button class=\"colab-df-convert\" onclick=\"convertToInteractive('df-679c488e-3d28-43d3-b26b-c3ed642a5b50')\"\n",
              "              title=\"Convert this dataframe to an interactive table.\"\n",
              "              style=\"display:none;\">\n",
              "        \n",
              "  <svg xmlns=\"http://www.w3.org/2000/svg\" height=\"24px\"viewBox=\"0 0 24 24\"\n",
              "       width=\"24px\">\n",
              "    <path d=\"M0 0h24v24H0V0z\" fill=\"none\"/>\n",
              "    <path d=\"M18.56 5.44l.94 2.06.94-2.06 2.06-.94-2.06-.94-.94-2.06-.94 2.06-2.06.94zm-11 1L8.5 8.5l.94-2.06 2.06-.94-2.06-.94L8.5 2.5l-.94 2.06-2.06.94zm10 10l.94 2.06.94-2.06 2.06-.94-2.06-.94-.94-2.06-.94 2.06-2.06.94z\"/><path d=\"M17.41 7.96l-1.37-1.37c-.4-.4-.92-.59-1.43-.59-.52 0-1.04.2-1.43.59L10.3 9.45l-7.72 7.72c-.78.78-.78 2.05 0 2.83L4 21.41c.39.39.9.59 1.41.59.51 0 1.02-.2 1.41-.59l7.78-7.78 2.81-2.81c.8-.78.8-2.07 0-2.86zM5.41 20L4 18.59l7.72-7.72 1.47 1.35L5.41 20z\"/>\n",
              "  </svg>\n",
              "      </button>\n",
              "      \n",
              "  <style>\n",
              "    .colab-df-container {\n",
              "      display:flex;\n",
              "      flex-wrap:wrap;\n",
              "      gap: 12px;\n",
              "    }\n",
              "\n",
              "    .colab-df-convert {\n",
              "      background-color: #E8F0FE;\n",
              "      border: none;\n",
              "      border-radius: 50%;\n",
              "      cursor: pointer;\n",
              "      display: none;\n",
              "      fill: #1967D2;\n",
              "      height: 32px;\n",
              "      padding: 0 0 0 0;\n",
              "      width: 32px;\n",
              "    }\n",
              "\n",
              "    .colab-df-convert:hover {\n",
              "      background-color: #E2EBFA;\n",
              "      box-shadow: 0px 1px 2px rgba(60, 64, 67, 0.3), 0px 1px 3px 1px rgba(60, 64, 67, 0.15);\n",
              "      fill: #174EA6;\n",
              "    }\n",
              "\n",
              "    [theme=dark] .colab-df-convert {\n",
              "      background-color: #3B4455;\n",
              "      fill: #D2E3FC;\n",
              "    }\n",
              "\n",
              "    [theme=dark] .colab-df-convert:hover {\n",
              "      background-color: #434B5C;\n",
              "      box-shadow: 0px 1px 3px 1px rgba(0, 0, 0, 0.15);\n",
              "      filter: drop-shadow(0px 1px 2px rgba(0, 0, 0, 0.3));\n",
              "      fill: #FFFFFF;\n",
              "    }\n",
              "  </style>\n",
              "\n",
              "      <script>\n",
              "        const buttonEl =\n",
              "          document.querySelector('#df-679c488e-3d28-43d3-b26b-c3ed642a5b50 button.colab-df-convert');\n",
              "        buttonEl.style.display =\n",
              "          google.colab.kernel.accessAllowed ? 'block' : 'none';\n",
              "\n",
              "        async function convertToInteractive(key) {\n",
              "          const element = document.querySelector('#df-679c488e-3d28-43d3-b26b-c3ed642a5b50');\n",
              "          const dataTable =\n",
              "            await google.colab.kernel.invokeFunction('convertToInteractive',\n",
              "                                                     [key], {});\n",
              "          if (!dataTable) return;\n",
              "\n",
              "          const docLinkHtml = 'Like what you see? Visit the ' +\n",
              "            '<a target=\"_blank\" href=https://colab.research.google.com/notebooks/data_table.ipynb>data table notebook</a>'\n",
              "            + ' to learn more about interactive tables.';\n",
              "          element.innerHTML = '';\n",
              "          dataTable['output_type'] = 'display_data';\n",
              "          await google.colab.output.renderOutput(dataTable, element);\n",
              "          const docLink = document.createElement('div');\n",
              "          docLink.innerHTML = docLinkHtml;\n",
              "          element.appendChild(docLink);\n",
              "        }\n",
              "      </script>\n",
              "    </div>\n",
              "  </div>\n",
              "  "
            ]
          },
          "metadata": {},
          "execution_count": 5
        }
      ]
    },
    {
      "cell_type": "markdown",
      "source": [
        "### **Preparação dos dados:**"
      ],
      "metadata": {
        "id": "JHjfq_LL9EIv"
      }
    },
    {
      "cell_type": "code",
      "source": [
        "credito.shape"
      ],
      "metadata": {
        "colab": {
          "base_uri": "https://localhost:8080/"
        },
        "id": "oayA5fIL9SPe",
        "outputId": "5cf8b3df-3bd6-45f7-ba40-6f7f64958dd8"
      },
      "execution_count": 6,
      "outputs": [
        {
          "output_type": "execute_result",
          "data": {
            "text/plain": [
              "(10127, 16)"
            ]
          },
          "metadata": {},
          "execution_count": 6
        }
      ]
    },
    {
      "cell_type": "code",
      "source": [
        "credito.info()"
      ],
      "metadata": {
        "colab": {
          "base_uri": "https://localhost:8080/"
        },
        "id": "h2tHSvQ-9JfG",
        "outputId": "19010904-6fd4-4d97-86a5-d8e8fbd6bc5c"
      },
      "execution_count": 7,
      "outputs": [
        {
          "output_type": "stream",
          "name": "stdout",
          "text": [
            "<class 'pandas.core.frame.DataFrame'>\n",
            "RangeIndex: 10127 entries, 0 to 10126\n",
            "Data columns (total 16 columns):\n",
            " #   Column                   Non-Null Count  Dtype \n",
            "---  ------                   --------------  ----- \n",
            " 0   id                       10127 non-null  int64 \n",
            " 1   default                  10127 non-null  int64 \n",
            " 2   idade                    10127 non-null  int64 \n",
            " 3   sexo                     10127 non-null  object\n",
            " 4   dependentes              10127 non-null  int64 \n",
            " 5   escolaridade             10127 non-null  object\n",
            " 6   estado_civil             10127 non-null  object\n",
            " 7   salario_anual            10127 non-null  object\n",
            " 8   tipo_cartao              10127 non-null  object\n",
            " 9   meses_de_relacionamento  10127 non-null  int64 \n",
            " 10  qtd_produtos             10127 non-null  int64 \n",
            " 11  iteracoes_12m            10127 non-null  int64 \n",
            " 12  meses_inativo_12m        10127 non-null  int64 \n",
            " 13  limite_credito           10127 non-null  object\n",
            " 14  valor_transacoes_12m     10127 non-null  object\n",
            " 15  qtd_transacoes_12m       10127 non-null  int64 \n",
            "dtypes: int64(9), object(7)\n",
            "memory usage: 1.2+ MB\n"
          ]
        }
      ]
    },
    {
      "cell_type": "code",
      "source": [
        "credito.isna().sum()"
      ],
      "metadata": {
        "colab": {
          "base_uri": "https://localhost:8080/"
        },
        "id": "6F0YXHgW9VHz",
        "outputId": "c2486c75-2224-4d85-8a97-af7eaf817b52"
      },
      "execution_count": 8,
      "outputs": [
        {
          "output_type": "execute_result",
          "data": {
            "text/plain": [
              "id                         0\n",
              "default                    0\n",
              "idade                      0\n",
              "sexo                       0\n",
              "dependentes                0\n",
              "escolaridade               0\n",
              "estado_civil               0\n",
              "salario_anual              0\n",
              "tipo_cartao                0\n",
              "meses_de_relacionamento    0\n",
              "qtd_produtos               0\n",
              "iteracoes_12m              0\n",
              "meses_inativo_12m          0\n",
              "limite_credito             0\n",
              "valor_transacoes_12m       0\n",
              "qtd_transacoes_12m         0\n",
              "dtype: int64"
            ]
          },
          "metadata": {},
          "execution_count": 8
        }
      ]
    },
    {
      "cell_type": "markdown",
      "source": [
        "> **Transformando as colunas `limite_credito` e `valor_transacoes_12m`. Pois elas precisam estar configuradas como floats na AWS**"
      ],
      "metadata": {
        "id": "C_q5i_t29mWb"
      }
    },
    {
      "cell_type": "code",
      "source": [
        "credito[['limite_credito', 'valor_transacoes_12m']].head(1)"
      ],
      "metadata": {
        "colab": {
          "base_uri": "https://localhost:8080/",
          "height": 81
        },
        "id": "rgdtKqHa-AfQ",
        "outputId": "687bdb5d-3b8d-4b4b-f9af-d85e8d1df651"
      },
      "execution_count": 9,
      "outputs": [
        {
          "output_type": "execute_result",
          "data": {
            "text/plain": [
              "  limite_credito valor_transacoes_12m\n",
              "0      12.691,51             1.144,90"
            ],
            "text/html": [
              "\n",
              "  <div id=\"df-864ffc9f-dea2-4f3d-ba1c-ea788ef9fea2\">\n",
              "    <div class=\"colab-df-container\">\n",
              "      <div>\n",
              "<style scoped>\n",
              "    .dataframe tbody tr th:only-of-type {\n",
              "        vertical-align: middle;\n",
              "    }\n",
              "\n",
              "    .dataframe tbody tr th {\n",
              "        vertical-align: top;\n",
              "    }\n",
              "\n",
              "    .dataframe thead th {\n",
              "        text-align: right;\n",
              "    }\n",
              "</style>\n",
              "<table border=\"1\" class=\"dataframe\">\n",
              "  <thead>\n",
              "    <tr style=\"text-align: right;\">\n",
              "      <th></th>\n",
              "      <th>limite_credito</th>\n",
              "      <th>valor_transacoes_12m</th>\n",
              "    </tr>\n",
              "  </thead>\n",
              "  <tbody>\n",
              "    <tr>\n",
              "      <th>0</th>\n",
              "      <td>12.691,51</td>\n",
              "      <td>1.144,90</td>\n",
              "    </tr>\n",
              "  </tbody>\n",
              "</table>\n",
              "</div>\n",
              "      <button class=\"colab-df-convert\" onclick=\"convertToInteractive('df-864ffc9f-dea2-4f3d-ba1c-ea788ef9fea2')\"\n",
              "              title=\"Convert this dataframe to an interactive table.\"\n",
              "              style=\"display:none;\">\n",
              "        \n",
              "  <svg xmlns=\"http://www.w3.org/2000/svg\" height=\"24px\"viewBox=\"0 0 24 24\"\n",
              "       width=\"24px\">\n",
              "    <path d=\"M0 0h24v24H0V0z\" fill=\"none\"/>\n",
              "    <path d=\"M18.56 5.44l.94 2.06.94-2.06 2.06-.94-2.06-.94-.94-2.06-.94 2.06-2.06.94zm-11 1L8.5 8.5l.94-2.06 2.06-.94-2.06-.94L8.5 2.5l-.94 2.06-2.06.94zm10 10l.94 2.06.94-2.06 2.06-.94-2.06-.94-.94-2.06-.94 2.06-2.06.94z\"/><path d=\"M17.41 7.96l-1.37-1.37c-.4-.4-.92-.59-1.43-.59-.52 0-1.04.2-1.43.59L10.3 9.45l-7.72 7.72c-.78.78-.78 2.05 0 2.83L4 21.41c.39.39.9.59 1.41.59.51 0 1.02-.2 1.41-.59l7.78-7.78 2.81-2.81c.8-.78.8-2.07 0-2.86zM5.41 20L4 18.59l7.72-7.72 1.47 1.35L5.41 20z\"/>\n",
              "  </svg>\n",
              "      </button>\n",
              "      \n",
              "  <style>\n",
              "    .colab-df-container {\n",
              "      display:flex;\n",
              "      flex-wrap:wrap;\n",
              "      gap: 12px;\n",
              "    }\n",
              "\n",
              "    .colab-df-convert {\n",
              "      background-color: #E8F0FE;\n",
              "      border: none;\n",
              "      border-radius: 50%;\n",
              "      cursor: pointer;\n",
              "      display: none;\n",
              "      fill: #1967D2;\n",
              "      height: 32px;\n",
              "      padding: 0 0 0 0;\n",
              "      width: 32px;\n",
              "    }\n",
              "\n",
              "    .colab-df-convert:hover {\n",
              "      background-color: #E2EBFA;\n",
              "      box-shadow: 0px 1px 2px rgba(60, 64, 67, 0.3), 0px 1px 3px 1px rgba(60, 64, 67, 0.15);\n",
              "      fill: #174EA6;\n",
              "    }\n",
              "\n",
              "    [theme=dark] .colab-df-convert {\n",
              "      background-color: #3B4455;\n",
              "      fill: #D2E3FC;\n",
              "    }\n",
              "\n",
              "    [theme=dark] .colab-df-convert:hover {\n",
              "      background-color: #434B5C;\n",
              "      box-shadow: 0px 1px 3px 1px rgba(0, 0, 0, 0.15);\n",
              "      filter: drop-shadow(0px 1px 2px rgba(0, 0, 0, 0.3));\n",
              "      fill: #FFFFFF;\n",
              "    }\n",
              "  </style>\n",
              "\n",
              "      <script>\n",
              "        const buttonEl =\n",
              "          document.querySelector('#df-864ffc9f-dea2-4f3d-ba1c-ea788ef9fea2 button.colab-df-convert');\n",
              "        buttonEl.style.display =\n",
              "          google.colab.kernel.accessAllowed ? 'block' : 'none';\n",
              "\n",
              "        async function convertToInteractive(key) {\n",
              "          const element = document.querySelector('#df-864ffc9f-dea2-4f3d-ba1c-ea788ef9fea2');\n",
              "          const dataTable =\n",
              "            await google.colab.kernel.invokeFunction('convertToInteractive',\n",
              "                                                     [key], {});\n",
              "          if (!dataTable) return;\n",
              "\n",
              "          const docLinkHtml = 'Like what you see? Visit the ' +\n",
              "            '<a target=\"_blank\" href=https://colab.research.google.com/notebooks/data_table.ipynb>data table notebook</a>'\n",
              "            + ' to learn more about interactive tables.';\n",
              "          element.innerHTML = '';\n",
              "          dataTable['output_type'] = 'display_data';\n",
              "          await google.colab.output.renderOutput(dataTable, element);\n",
              "          const docLink = document.createElement('div');\n",
              "          docLink.innerHTML = docLinkHtml;\n",
              "          element.appendChild(docLink);\n",
              "        }\n",
              "      </script>\n",
              "    </div>\n",
              "  </div>\n",
              "  "
            ]
          },
          "metadata": {},
          "execution_count": 9
        }
      ]
    },
    {
      "cell_type": "markdown",
      "source": [
        "> **Trocando o separador decimal para ponto e excluindo as vírgulas:**"
      ],
      "metadata": {
        "id": "rBLV0kuy-vYX"
      }
    },
    {
      "cell_type": "code",
      "source": [
        "#limite_credito\tvalor_transacoes_12m\tqtd_transacoes_12m\n",
        "credito['limite_credito'] = credito['limite_credito'].apply(\n",
        "    lambda valor: valor.replace('.','').replace(',','.')\n",
        ")\n",
        "credito['valor_transacoes_12m'] = credito['valor_transacoes_12m'].apply(\n",
        "    lambda valor: valor.replace('.','').replace(',','.')\n",
        ")"
      ],
      "metadata": {
        "id": "2LKLw4Tw9ZCU"
      },
      "execution_count": 10,
      "outputs": []
    },
    {
      "cell_type": "markdown",
      "source": [
        "> **Convertendo o tipo de dado para float:**"
      ],
      "metadata": {
        "id": "lH3LTOTn-okh"
      }
    },
    {
      "cell_type": "code",
      "source": [
        "credito['limite_credito'] = credito['limite_credito'].astype('float')\n",
        "credito['valor_transacoes_12m'] = credito['valor_transacoes_12m'].astype('float')"
      ],
      "metadata": {
        "id": "Exgnq0vV-eNB"
      },
      "execution_count": 11,
      "outputs": []
    },
    {
      "cell_type": "markdown",
      "source": [
        "> **Checagem:**"
      ],
      "metadata": {
        "id": "A7BoxDD7-94J"
      }
    },
    {
      "cell_type": "code",
      "source": [
        "credito.dtypes"
      ],
      "metadata": {
        "colab": {
          "base_uri": "https://localhost:8080/"
        },
        "id": "N0l_IdLb-9dH",
        "outputId": "9353e6ae-96b7-4daf-94e6-3b48dbd863f5"
      },
      "execution_count": 12,
      "outputs": [
        {
          "output_type": "execute_result",
          "data": {
            "text/plain": [
              "id                           int64\n",
              "default                      int64\n",
              "idade                        int64\n",
              "sexo                        object\n",
              "dependentes                  int64\n",
              "escolaridade                object\n",
              "estado_civil                object\n",
              "salario_anual               object\n",
              "tipo_cartao                 object\n",
              "meses_de_relacionamento      int64\n",
              "qtd_produtos                 int64\n",
              "iteracoes_12m                int64\n",
              "meses_inativo_12m            int64\n",
              "limite_credito             float64\n",
              "valor_transacoes_12m       float64\n",
              "qtd_transacoes_12m           int64\n",
              "dtype: object"
            ]
          },
          "metadata": {},
          "execution_count": 12
        }
      ]
    },
    {
      "cell_type": "markdown",
      "source": [
        "> **Excluindo colunas que não serão utilizadas:**"
      ],
      "metadata": {
        "id": "1vFEqdlp_a4P"
      }
    },
    {
      "cell_type": "code",
      "source": [
        "credito.drop(['meses_de_relacionamento', 'iteracoes_12m'], \n",
        "                    axis=1, inplace=True)"
      ],
      "metadata": {
        "id": "v6MS6j02_SLv"
      },
      "execution_count": 13,
      "outputs": []
    },
    {
      "cell_type": "code",
      "source": [
        "credito.columns"
      ],
      "metadata": {
        "colab": {
          "base_uri": "https://localhost:8080/"
        },
        "id": "fTKCO9hcB-u3",
        "outputId": "302e2e86-42f8-4afd-f757-bf7220c6380e"
      },
      "execution_count": 14,
      "outputs": [
        {
          "output_type": "execute_result",
          "data": {
            "text/plain": [
              "Index(['id', 'default', 'idade', 'sexo', 'dependentes', 'escolaridade',\n",
              "       'estado_civil', 'salario_anual', 'tipo_cartao', 'qtd_produtos',\n",
              "       'meses_inativo_12m', 'limite_credito', 'valor_transacoes_12m',\n",
              "       'qtd_transacoes_12m'],\n",
              "      dtype='object')"
            ]
          },
          "metadata": {},
          "execution_count": 14
        }
      ]
    },
    {
      "cell_type": "markdown",
      "source": [
        "**Baixando o novo notebook**"
      ],
      "metadata": {
        "id": "QizOrVX2_Fg8"
      }
    },
    {
      "cell_type": "code",
      "source": [
        "credito.to_csv('credito.csv', index=False, header=False)"
      ],
      "metadata": {
        "id": "3ogbrbxz_KM7"
      },
      "execution_count": 15,
      "outputs": []
    }
  ]
}